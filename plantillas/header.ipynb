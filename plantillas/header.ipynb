{
 "cells": [
  {
   "cell_type": "markdown",
   "metadata": {},
   "source": [
    "Antes de someter este problema, asegúrese de que todo funcione como se espera. Primero, **reinicia el kernel** (en la barra de menus, selecciona Kernel$\\rightarrow$Restart) y luego **ejecuta todas las celdas** (en la barra de menus, selecciona Cell$\\rightarrow$Run All).\n",
    "\n",
    "**IMPORTANTE: NO COPIES O DIVIDAS CELDAS.** Si lo haces, estropearás el autograder. Si necesitas más celdas para trabajar o para probar cosas, crea una nueva celda. Puede agregar tantas celdas nuevas como necesites.\n",
    "\n",
    "Asegúrate de completar en cualquier lugar que diga `YOUR CODE HERE` o \"YOUR ANSWER HERE\", así como tu nombre y grupo a continuación:"
   ]
  },
  {
   "cell_type": "code",
   "execution_count": null,
   "metadata": {},
   "outputs": [],
   "source": [
    "CURSO = \"Curso 101\"\n",
    "GRUPO = \"\"\n",
    "NOMBRE = \"\""
   ]
  },
  {
   "cell_type": "markdown",
   "metadata": {},
   "source": [
    "---"
   ]
  }
 ],
 "metadata": {
  "kernelspec": {
   "display_name": "Python 3",
   "language": "python",
   "name": "python3"
  },
  "language_info": {
   "codemirror_mode": {
    "name": "ipython",
    "version": 3
   },
   "file_extension": ".py",
   "mimetype": "text/x-python",
   "name": "python",
   "nbconvert_exporter": "python",
   "pygments_lexer": "ipython3",
   "version": "3.8.3"
  }
 },
 "nbformat": 4,
 "nbformat_minor": 4
}
