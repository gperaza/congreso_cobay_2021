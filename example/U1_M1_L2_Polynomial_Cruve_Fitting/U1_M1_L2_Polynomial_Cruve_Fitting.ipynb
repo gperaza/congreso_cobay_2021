{
 "cells": [
  {
   "cell_type": "code",
   "execution_count": 5,
   "metadata": {},
   "outputs": [],
   "source": [
    "import numpy as np\n",
    "import pandas as pd\n",
    "import matplotlib.pyplot as plt"
   ]
  },
  {
   "cell_type": "markdown",
   "metadata": {},
   "source": [
    "# A1.2 Polynomial Curve Fitting\n",
    "\n",
    "## Introduction\n",
    "The Polynomiacl Curve Fitting is a regression problem, which we will be used as a Study Case in order to introduce the key concepts related to Modelling. The following Study Case is based on the book:\n",
    "\n",
    "> C. M. Bishop (2006). Pattern Recognition and Machine Learning. \n",
    "\n",
    "The Study Case is structured as follows:\n",
    "1. Problem Description\n",
    "2. Polynomial Curve Fitting\n",
    "3. Application\n",
    "\n",
    "## 1. Problem Description\n",
    "\n",
    "Consider the data provided in the files:\n",
    "* `data/data_train.csv`\n",
    "* `data/data_test.csv`\n",
    "\n",
    "The data contains two columns `x`y `t`. Suppose we observe have a input variable $x$ and we want to use this observation to predict the value of a target variable $t$. \n",
    "\n",
    "For the porpuse of this teaching material the files contains synthetically generated data. The data for this Study Case was generated from the function $sin(2\\pi x)$ with random noise in the target values.\n",
    "\n",
    "The goal is to exploit the data in order to make predictions of the value $\\hat{t}$ of the target variable for some new value of the input variable. "
   ]
  },
  {
   "cell_type": "code",
   "execution_count": 6,
   "metadata": {},
   "outputs": [],
   "source": [
    "data = pd.read_csv(\"data/data_train.csv\")\n",
    "\n",
    "x = data['x'].values\n",
    "y = data['y'].values"
   ]
  },
  {
   "cell_type": "markdown",
   "metadata": {},
   "source": [
    "**T1.** Make a plot with the `data` (`y` and `x`) including the curve $sin(2\\pi x)$ that was used to generate the data."
   ]
  },
  {
   "cell_type": "code",
   "execution_count": 7,
   "metadata": {},
   "outputs": [
    {
     "data": {
      "image/png": "[encoded data removed]",
      "text/plain": [
       "<Figure size 432x288 with 1 Axes>"
      ]
     },
     "metadata": {
      "needs_background": "light"
     },
     "output_type": "display_data"
    }
   ],
   "source": [
    "### BEGIN SOLUTION\n",
    "xsin = np.linspace(0, 1, 100)\n",
    "ysin = np.sin(2 * np.pi * xsin)\n",
    "\n",
    "fig, ax = plt.subplots()\n",
    "ax.plot(x, y, '.', marker = 'o', markerfacecolor='none')\n",
    "ax.plot(xsin, ysin, '-', color = 'green')\n",
    "ax.set(xlabel='x', ylabel='t')\n",
    "\n",
    "plt.show()\n",
    "### END SOLUTION"
   ]
  },
  {
   "cell_type": "markdown",
   "metadata": {},
   "source": [
    "## 2. Polynomial Curve Fitting\n",
    "\n",
    "In this Study Case, we shall fit the data using a Polynomial Function of the form:\n",
    "\n",
    "$$ \\hat{y}(x,\\vec{w}) = w_0 + w_1 x + w_2 x^2 + w_3 x^3 + ... + w_M x^M$$\n",
    "\n",
    "$$ \\hat{y}(x,\\vec{w}) = \\sum_{j=0}^M w_i x^j$$\n",
    "\n",
    "where $M$ is the order of the polynomial, and $x^j$ denotes $x$ raised to the power of $j$. The polynomials coefficients $w_0$, $w_1$, $\\dots$, $w_M$ are collective denotes by the vector $\\vec{w}$.\n",
    "\n",
    "Note that, although the polynomial function $$ \\hat{y}(x,\\vec{w})$$ is a nonlinear function of $x$, it is a linear function of the coefficients $\\vec{w}$. Functions, such as the polynomial, which are linear in the unknown parameters are called *linear models*.\n",
    "\n",
    "The values of the coefficients will be determined by fitting the polynomial to the training data. The misfit between the function $$ \\hat{y}(x,\\vec{w})$$ for a given value of $\\vec{w}$ (predicted values of $t$) and the training set data points $t$ can be measured with an *error function*. The error function shall be minimized in order to fit the polynomial to the data. \n",
    "\n",
    "In this Study Case, the error function will be given by the sum of the squares of the errors between the predictions for each data point and the corresponding target values,\n",
    "\n",
    "$$ E (\\vec{w})= \\frac{1}{2} \\sum_{n=1}^{N} \\{y(x_n, \\vec{w})-t_n\\}^2 $$\n",
    "\n",
    "The factor 1/2 is included for later convenience. The curve fitting problem is solved by choosing the value of $\\vec{w}$ for which $E(\\vec{w})$ is as small as possible. Because the error function is a quadratic function of the coefficients $\\vec{w}$, and so the minimization of the error function has a unique solution, denoted by $w^\\star$. The resulting polynomial is given by the function $$ \\hat{y}(x,\\vec{w^\\star})$$.\n",
    "\n",
    "**T2** Create a function `predict(x,w)` which predicts *t* based on the observations of the input variable `x` and the polynomial coefficient `w`. Consider as inputs:\n",
    "* `x`: a vector including all the values of the input variable x for a given set of point.\n",
    "* `w`: polynomial coefficient vector."
   ]
  },
  {
   "cell_type": "code",
   "execution_count": 15,
   "metadata": {},
   "outputs": [],
   "source": [
    "def predict(x, w):\n",
    "    \"\"\"\n",
    "    Function to obtain the prediction\n",
    "    \n",
    "    Input:\n",
    "        x: [Array] Independent Variable.\n",
    "        w: [Array] Polynomial Coefficients.\n",
    "        M: [Float] Order of the Polynomial.\n",
    "        \n",
    "    Output:\n",
    "        y: [Array] Predictions\n",
    "    \"\"\"\n",
    "    \n",
    "    ### BEGIN SOLUTION\n",
    "\n",
    "\n",
    "    M = len(w)-1\n",
    "    y = [w[i] * (x ** i) for i in range((M+1))]\n",
    "    y = np.array(y)\n",
    "    y = sum(y)\n",
    "    \n",
    "    ### END SOLUTION\n",
    "    return y"
   ]
  },
  {
   "cell_type": "markdown",
   "metadata": {},
   "source": [
    "**T3** Create a function `fit(x,t, M)` which fit a M-th degree polynomial to the data. The function should return $w^\\star$. Consider as inputs:\n",
    "* `x`: a vector including all the values of the input variable x for a given set of point.\n",
    "* `t`: a vector including all the values of the target variable t for a given set of point.\n",
    "* `M`: the degree of the polynomial to be fitted."
   ]
  },
  {
   "cell_type": "code",
   "execution_count": 9,
   "metadata": {},
   "outputs": [],
   "source": [
    "def fit(x,t, M):\n",
    "    \"\"\"\n",
    "    Function to obtain the vector w by a fitting\n",
    "    a M-th order polynomial.\n",
    "    \n",
    "    Input:\n",
    "        x: [Array] Independent Variable\n",
    "        t: [Array] Depedendent Variable\n",
    "        M: [Float] Order of the Polynomial.\n",
    "        \n",
    "    Output:\n",
    "        w: [Array] w vector.\n",
    "    \"\"\"\n",
    "    \n",
    "    ### BEGIN SOLUTION\n",
    "\n",
    "    # A w = B\n",
    "    \n",
    "    # 1. Obtaining Matrix A\n",
    "    A = np.zeros((M+1, M+1))\n",
    "\n",
    "    for i in range(M+1):\n",
    "        for j in range(M+1):\n",
    "            A[i,j] = (x**(i+j)).sum()\n",
    "            \n",
    "    # 2. Obtaining Vector B\n",
    "    B = np.zeros(M+1)\n",
    "    for i in range(M+1):\n",
    "        B[i] = ((x**i) * t).sum()\n",
    "    \n",
    "    # 3. Obtaining A^-1\n",
    "    A_inv = np.linalg.inv(A)\n",
    "    \n",
    "    # 3. Obtaining Vector w (w = A^-1 B)\n",
    "    w = A_inv @ B\n",
    "    \n",
    "    ### END SOLUTION\n",
    "    return w"
   ]
  },
  {
   "cell_type": "markdown",
   "metadata": {},
   "source": [
    "**T4** Create a function `rmse(y, t)` computes the root-mean-square error given the predicted value `y`and the target values `t`. Consider as inputs:\n",
    "* `y`: a vector including all the predicted values of the target variable for a given set of point.\n",
    "* `t`: a vector including all the values of the target variable t for a given set of point."
   ]
  },
  {
   "cell_type": "code",
   "execution_count": 16,
   "metadata": {},
   "outputs": [],
   "source": [
    "def rmse(y_prediction, t):\n",
    "    \"\"\"\n",
    "    Function to get Root-Mean-Square Error\n",
    "    \n",
    "    Input:\n",
    "        y_prediction: [array] observed y values\n",
    "        y_real: [array] real values of y\n",
    "        \n",
    "    Output:\n",
    "        RMSE: Returns the root-mean-squared error value\n",
    "    \"\"\"\n",
    "    ### BEGIN SOLUTION\n",
    "\n",
    "\n",
    "    error = ((y_prediction - t)**2) \n",
    "    RMSE = np.sqrt(error.mean())\n",
    "    \n",
    "    ### END SOLUTION\n",
    "\n",
    "    return RMSE"
   ]
  },
  {
   "cell_type": "markdown",
   "metadata": {},
   "source": [
    "The *generalization* is the ability to categorize correctly new examples that differ from those used for training. In order to measure this property in the model it is common to split the data into two sets: training and test set. The train set is used to obtain $w^\\star$ and test set to estimate the performance of the model. In our particular Study Case, the estimation of the model performance is given by the root-mean-square error. The test set error is a measure of how well we are doing in predicting the values of $t$ for new data observations of $x$.\n",
    "\n",
    "**T5** Make a comparison (plot) of the root-mean-square error in the trainning set and test set with different values of M (from 0 to 9). \n",
    "\n",
    "> Try to reproduce Figure 1.5 of the cited book."
   ]
  },
  {
   "cell_type": "code",
   "execution_count": 11,
   "metadata": {},
   "outputs": [],
   "source": [
    "data = pd.read_csv(\"data/data_test.csv\")\n",
    "x_test = data['x'].values\n",
    "y_test = data['y'].values\n",
    "\n",
    "x_train = x\n",
    "y_train = y"
   ]
  },
  {
   "cell_type": "code",
   "execution_count": 17,
   "metadata": {},
   "outputs": [
    {
     "data": {
      "image/png": "[encoded data removed]",
      "text/plain": [
       "<Figure size 432x288 with 1 Axes>"
      ]
     },
     "metadata": {
      "needs_background": "light"
     },
     "output_type": "display_data"
    }
   ],
   "source": [
    "training_error = []\n",
    "test_error = []\n",
    "\n",
    "for i in range(10):\n",
    "    # Seleccionar el número de términos\n",
    "    M = i\n",
    "    \n",
    "    ### BEGIN SOLUTION\n",
    "\n",
    "    # Ajustar los datos utilizando x_train & y_train\n",
    "    w = fit(x_train,y_train, M)\n",
    "    \n",
    "    # Predecir valores en conjunto de entrenamiento (x_train)\n",
    "    training_prediction = predict(x_train, w)\n",
    "    \n",
    "    # Predecir valores en conjunto de evaluación (y_train)\n",
    "    test_prediction = predict(x_test, w)\n",
    "    \n",
    "    # Agregar errores en la lista corresondiente\n",
    "    training_error.append(rmse(training_prediction, y_train))\n",
    "    test_error.append(rmse(test_prediction, y_test))\n",
    "\n",
    "    ### END SOLUTION\n",
    "\n",
    "fig, ax = plt.subplots()\n",
    "ax.plot(training_error,  'o-', mfc=\"none\", mec=\"b\", ms=10, c=\"b\", label=\"Training\")\n",
    "ax.plot(test_error, 'o-', mfc=\"none\", mec=\"r\", ms=10, c=\"r\", label=\"Test\")\n",
    "ax.set(xlabel = 'M', ylabel = 'ERMS')  \n",
    "ax.set_xlim([0,9])\n",
    "ax.set_ylim([0,2])\n",
    "plt.legend()\n",
    "plt.show()"
   ]
  }
 ],
 "metadata": {
  "kernelspec": {
   "display_name": "Python 3",
   "language": "python",
   "name": "python3"
  },
  "language_info": {
   "codemirror_mode": {
    "name": "ipython",
    "version": 3
   },
   "file_extension": ".py",
   "mimetype": "text/x-python",
   "name": "python",
   "nbconvert_exporter": "python",
   "pygments_lexer": "ipython3",
   "version": "3.8.5"
  }
 },
 "nbformat": 4,
 "nbformat_minor": 4
}
