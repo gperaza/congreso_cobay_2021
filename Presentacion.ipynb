{
 "cells": [
  {
   "cell_type": "markdown",
   "metadata": {
    "slideshow": {
     "slide_type": "-"
    }
   },
   "source": [
    "##### Gonzalo G. Peraza Mues & Didier Gamboa Ángulo (Enero 2021)"
   ]
  },
  {
   "cell_type": "markdown",
   "metadata": {
    "slideshow": {
     "slide_type": "-"
    }
   },
   "source": [
    "# Calificación automática de tareas con Jupyter, nbgrader y Github Classroom"
   ]
  },
  {
   "cell_type": "markdown",
   "metadata": {
    "slideshow": {
     "slide_type": "-"
    }
   },
   "source": [
    "## Requisitos\n",
    "\n",
    "Project Jupyter: https://jupyter.org/\n",
    "\n",
    "nbgrader: https://nbgrader.readthedocs.io/en/stable/\n",
    "\n",
    "GitHub Classroom: https://classroom.github.com/\n"
   ]
  },
  {
   "cell_type": "markdown",
   "metadata": {},
   "source": [
    "## Paso 1: Crear un curso.\n",
    "\n",
    "Nbgrader necesita trabajar con una estrucutra de archivos específica. Así mismo, toda la información relevante a alumnos y tareas se almacena en una base de datos. Para no tener que crear esta estructura y base de datos a mano, usaremos el siguiente comando:\n",
    "\n",
    "\n",
    "```nbgrader quickstart curso101```\n",
    "\n",
    "\n",
    "Esto nos creo una carpeta con subcarpetas para ejercicios, retroalimentación, etc, y la base de datos.\n",
    "```\n",
    "curso101/\n",
    "├── gradebook.db\n",
    "├── nbgrader_config.py\n",
    "├── source\n",
    "│   ├── header.ipynb\n",
    "│   └── tarea1\n",
    "│       ├── imagen1.png\n",
    "│       ├── problema1.ipynb\n",
    "│       └── problema2.ipynb\n",
    "├── release\n",
    "│   └── tarea1\n",
    "│       ├── imagen1.png\n",
    "│       ├── problema1.ipynb\n",
    "│       └── problema2.ipynb\n",
    "├── submitted\n",
    "│   ├── DidierGamboa\n",
    "│   │   └── tarea1\n",
    "│   │       ├── imagen1.png\n",
    "│   │       ├── problema1.ipynb\n",
    "│   │       ├── problema2.ipynb\n",
    "│   │       └── timestamp.txt\n",
    "│   └── GPeraza\n",
    "│       └── tarea1\n",
    "│           ├── imagen1.png\n",
    "│           ├── problema1.ipynb\n",
    "│           ├── problema2.ipynb\n",
    "│           └── timestamp.txt\n",
    "├── autograded/\n",
    "└── feedback/\n",
    "```\n",
    "\n",
    "Vamos a borrar la carpeta `ps1` incluida por defecto en `source` y modificamos el archivo `header.py` para reflejar mejor nuestro curso. Un ejemplo de `header.py` se incluye en la carpeta `plantillas`."
   ]
  },
  {
   "cell_type": "markdown",
   "metadata": {},
   "source": [
    "**Paso 2: Crear un ejercicio compatible con nbgrader.**\n",
    "\n",
    "Los ejercicios se crean en la carpeta `source`. No es la versión que ven los estudiantes. Nuestra recomendación es conservar los ejercicios maestros (la clave) en otro lugar (otra carpeta, un repositorio) y crear \"soft links\" dentro de la carpeta `source`. Esto con el fin de poder reutilizar los ejercicios para varios cursos y poder modificarlos sin afectar lo ya procesado por nbgrader.\n",
    "\n",
    "En el repositorio incluimos una carpeta `ejemplos` con tareas ejemplo que vamos a importar en nuestra estructura de nbgrader. En Linux y MacOS, se pueden crear soft links con el comando\n",
    "```ln -s ruta/al/archivo_o_carpeta ruta/al/symlink```\n",
    "\n",
    "Es importante manter una denominación congruente que permita identificar el número de la tarea, su unidad, etc. Nostros recomendamos la siguiente denominación: `U<#unidad>_M<submodulo>_L<#lectura>_<nombre_de_la_tarea>`."
   ]
  },
  {
   "cell_type": "markdown",
   "metadata": {},
   "source": [
    "Existen diversas estrategias o patrones para estructurar un ejercicio de programación, en la carpeta ejemplos incluimos algunas las que más útiles nos han parecido en nuestra práctica.\n",
    "\n",
    "TODO: Lista de patrones con link a la carpeta de ejemplos."
   ]
  },
  {
   "cell_type": "markdown",
   "metadata": {},
   "source": [
    "## Fill in the blanks\n",
    "Description:\n",
    "To focus attention on one aspect of a workflow, the scaffolding and majority of the workflow can be laid out and some elements removed with the intent that students (or the instructor during a demo) fill in those pieces. The exercise might be accompanied by a small test that the code should pass, or a plot, or value which the code should generate if correct.\n",
    "\n",
    "Example:\n",
    "A fundamental concept in computing is the use of a for loop to accumulate a result. A fill-in-the-blank exercise demonstrating an accumulator could lay out the initialization, provide the skeleton of the for loop and include plotting code, with the aim being that students write the update step inside the for loop.\n",
    "\n",
    "Related patterns:\n",
    "This pattern is similar to Target practice; a difference is that Target Practice often focuses on a bigger step in a multi-step process. Fill in the Blank exercises tend to be smaller and more immediate.\n",
    "\n",
    "Learning goals:\n",
    "This pattern focuses attention on a component of a task and provides the benefit of demonstrating how that component fits into the bigger picture or a larger workflow. It can be an effective approach for taking students on a tour of an API, requiring that they use the documentation of the software, or for focusing attention on one aspect of an multi-step computational model.\n",
    "\n",
    "Audience(s):\n",
    "This approach can be used with a range of students, from those who are first being introduced to computing concepts to those who have significant experience.\n",
    "\n",
    "Format (lecture / lab / …):\n",
    "Assignments and labs can adopt this approach (nbgrader can be used to help with marking). It can also be used in a lecture or tutorial setting where the instructor demos how to fill in the blank.\n",
    "\n",
    "Pitfalls:\n",
    "Some students don’t find this approach engaging. In particular, if the exercise is too simple for the level of programming competency of the students, it can be perceived as a “make-work” task."
   ]
  },
  {
   "cell_type": "markdown",
   "metadata": {},
   "source": [
    "4.4 Target Practice\n",
    "Description:\n",
    "The Target Practice pattern focuses the learner’s attention on one component of a multi-step workflow. The instructor provides all workflow steps except the one which is the focus of the exercise; the student will implement the “target” step within a notebook.\n",
    "\n",
    "Example:\n",
    "In a climate science assignment, the notebook that is given to students provides code for fetching and parsing 20 years of hourly average temperature data from a public database. Students are asked to design an algorithm for computing yearly average temperature and standard deviation. Following this, the plotting code which plots the yearly temperature with error-bars showing the standard deviation is also provided to the students.\n",
    "\n",
    "Related patterns:\n",
    "This pattern is similar to [Fill in the Blank] exercises. Fill in the Blank exercises are typically smaller and more immediate, while Target Practice exercises tend to be larger (e.g. an entire step in a multi-step process).\n",
    "\n",
    "Learning goals:\n",
    "The aim of a Target Practice exercise is to focus attention on one component of a workflow and practice skills for solving that component. It can also be used to reflect on broader consequences of choices made in the target step of an integrated workflow or analysis.\n",
    "\n",
    "Audience(s):\n",
    "This approach assumes some programming competency as learners are typically asked to start from scratch on the step that they are practicing.\n",
    "\n",
    "Format (lecture / lab / …):\n",
    "This approach is readily used in assignments or labs. It can also be used in an in-class demo where the instructor live-codes the missing component. It is beneficial if preceeding steps have been discussed in earlier lectures.\n",
    "\n",
    "Pitfalls:\n",
    "As there is more freedom in the implementation, this approach is typically more engaging than a Fill in the Blanks approach. However, starting from more of a “blank slate” can require more instructor input in order to get students started. Unit tests and pointers to useful library functions are often helpful, but may over-constrain the space of solutions, thereby reducing the level of creativity and problem solving expected from students. The amount of guidance should be carefully calibrated to the class and can be adjusted by giving tips in response to formative assessments. Working in small groups can help mitigate the risks of students having trouble getting started or pursuing tangents."
   ]
  },
  {
   "cell_type": "markdown",
   "metadata": {},
   "source": [
    "4.5 Tweak, twiddle, and frob\n",
    "Description:\n",
    "Students are given a notebook with a working example. They start by reading the text, running the code, and interpreting the results. Then they are asked to make a series of changes and run the code again; the changes can be small (tweaks), medium-sized (twiddles), or more substantial (frobs). For the origin of these terms, see The New Hacker’s Dictionary (Raymond, 1996).\n",
    "\n",
    "Offering manipulations on a range of scales allows students to interact with notebooks in ways that suit their background and styles. Students who feel overwhelmed by the technology can get started with small, safe changes, enjoy immediate success, and work their way up. Students with more experience or less patience can make more radical changes and learn by “destructive testing”.\n",
    "\n",
    "Examples:\n",
    "In machine learning there are many steps to implementing an effective algorithm:\n",
    "\n",
    "Understand a problem\n",
    "Identify the proper machine learning algorithm to create the desired results\n",
    "Identify data and feature sets\n",
    "Optimize the configuration of the machine learning algorithms\n",
    "We can write machine learning notebooks that allow students to modify parameters and interact at multiple levels of detail:\n",
    "\n",
    "twiddle hyper parameters to quickly see minor improvements in the results.\n",
    "tweak feature sets to create new models for a bigger impact\n",
    "frob by replacing the machine learning algorithm with a new algorithm or a new version\n",
    "This pattern is particularly suitable for examples with a lot of parameters.\n",
    "\n",
    "Learning goals:\n",
    "This pattern helps students acquire domain knowledge by seeing the relationship between parameters and the effect they have on the results. It can also help students learn new notebook use patterns\n",
    "\n",
    "This pattern is similar to “notebook as an app”; a difference is that in this pattern the code is more visible to the students, which can help orient them if they will make bigger changes in the future.\n",
    "\n",
    "Audience(s):\n",
    "This pattern can work with students who have no programming experience; they only need to be able to edit the contents of a cell and run a notebook. It can also work with students who have no background with the domain; they can learn about the domain by exploring the effect of parameters.\n",
    "\n",
    "Format (lecture / lab / …):\n",
    "This pattern lends itself to a workshop format, where students are guided through a notebook with time-boxed opportunities to experiment. It also lends itself to pair programming, where a navigator can suggest changes and a driver can implement them.\n",
    "\n",
    "Features:\n",
    "Can help students overcome anxiety about breaking code, and build comfort with self-directed exploration.\n",
    "\n",
    "Pitfalls:\n",
    "One hazard of this pattern is that students might have trouble getting started, so you might suggest a few examples; however, another hazard is that, if you provide examples, students will do what they are told and fail to explore. A third hazard is that the changes a student makes might be too unorganized; in that case the effect of the parameters might be lost in the chaos.\n",
    "\n",
    "Enabling technologies:\n",
    "Ideally the students should work in some kind of version control system that lets them revert to a previous version if they break something (and don’t know how to fix it). Note that undo and redo, Ctrl-z and Ctrl-y, can be used to traverse deep history within each cell, but not across cells."
   ]
  },
  {
   "cell_type": "markdown",
   "metadata": {},
   "source": [
    "4.8 Top-down sequence\n",
    "Description:\n",
    "Particularly in STEM, the default sequence of presentation is bottom-up, meaning that we teach students how things work (and sometimes prove that they work), before students learn how to use them, or what they are for.\n",
    "\n",
    "Notebooks afford the opportunity to present topics top-down; that is, students learn what a tool is for and how to use it, before they learn how it works.\n",
    "\n",
    "Examples\n",
    "\n",
    "In digital signal processing, one of the most important ideas is the discrete Fourier transform, which depends on complex arithmetic; in a bottom-up approach, we would have to start by teaching or reviewing complex numbers, which is not particularly engaging.\n",
    "\n",
    "In contrast to writing the mathematics on paper, in a notebook students can use a library that does the discrete Fourier transform for them, so they understand what it is used for, and see the value of learning about it, before we ask them to do the work of understanding it.\n",
    "\n",
    "Some important methods are intrinsically leaky abstractions that require user expertise to use effectively and reliably. This is often because truly reliable solutions (if they exist) are disproportionately expensive for common cases. Numerical integration and methods for discretizing and solving differential equations often fall in this category. In addition to gaining intuition before diving into the details, the top-down pattern can be used to expose these leaks as motivation to understand the methods well enough to explain and correct for the shortcomings. For example, one can motivate convergence analysis and verification (Roache, 2004) by showing a solver that passes some consistency tests, but does not converge (or converges suboptimally) in general; or motivate conservative/compatible discretizations by showing a solver that has been verified for smooth solutions produce erroneous results for problems with singularities or discontinuities. Consider, for example, Gibbs and Runge phenomena, instability for Gram-Schmidt (Trefethen & Bau, 1997), entropy principles (LeVeque, 2002), eddy viscosity (Mishra & Spinolo, 2015), and LBB/inf-sup stability and “variational crimes” (Brenner & Scott, 2008; Chapelle & Bathe, 1993).\n",
    "\n",
    "Learning goals:\n",
    "This pattern is useful for building intuition, context, and motivation before introducing technical domain content instead of building up in a setting where implementation details often take center stage.\n",
    "\n",
    "Audience(s):\n",
    "This pattern can be effective with students who have limited programming skills, as they can use a library and see the results without writing much, if any, code.\n",
    "\n",
    "Format (lecture / lab / …):\n",
    "This pattern can be used in a single class session or homework, or spread out over the duration of a course; for example, students could use a tool on the first day and find out how it works on the last.\n",
    "\n",
    "Features:\n",
    "Shows students value and rewards their attention quickly (see Win-day-one).\n",
    "\n",
    "Pitfalls:\n",
    "A potential hazard of this pattern is that students might be less motivated to learn how the tool works if they think they have already understood what it is for and how to use it. This hazard can be mitigated by making obvious the additional benefit of understanding how it works (assuming that there actually is one—it is not enough to assert that knowing how it works is necessarily better). “Interesting” failure modes (see examples above) discovered by students while trying to solve a problem are great for motivating deeper understanding."
   ]
  },
  {
   "cell_type": "markdown",
   "metadata": {},
   "source": [
    "4.10 Coding as translation\n",
    "Description:\n",
    "Converting mathematics to code is a critical skill today that many students, especially those without strong programming backgrounds, struggle to do. Explicitly taking an equation and translating it step-by-step to the code can help these students make the transition to attaining this skill.\n",
    "\n",
    "Example:\n",
    "Say you wanted to show the translation of matrix-vector multiplication from equation to a numerical computation. This would involve setting up and explaining the mathematics and suggesting replacing the sums with loops and initializing the sum properly.\n",
    "\n",
    "Learning goals:\n",
    "Translating mathematics to code (and vice versa)\n",
    "\n",
    "Audience(s):\n",
    "Learners who understand the theory but struggle with the programming side of things.\n",
    "\n",
    "Format:\n",
    "This type of pattern is often best served as a notebook with some explanatory text and possibly some scaffolded code so that a student can focus on the critical areas. This can be done as easily as a lab exercise or in lecture with perhaps some time held out for the students to solve it themselves before moving forward. It is critical to this pattern that there is a clear connection between the mathematical symbols (such as the summation) to the code (such as the for loops).\n",
    "\n",
    "Features:\n",
    "This pattern can work to lower the barrier for students with low programming knowledge to take on more complex tasks.\n",
    "\n",
    "Pitfalls:\n",
    "If the exercise is not properly scaffolded, namely it is too complex, students can be turned off. This is especially true if the code example is too complex with too many steps. For instance avoiding compound operators in the example above (+=) can help student retention."
   ]
  },
  {
   "cell_type": "markdown",
   "metadata": {},
   "source": [
    "4.11 Symbolic math over pencil + paper\n",
    "Description:\n",
    "Your objective is to convey an understanding of a physical system governed by a complicated mathematical system. Working out the algebra is necessary to uncover the fundamental behavior of the system, but how to do the algebra is not the goal of the lesson. In this case, you want to see the algebraic result and then teach the students the underlying meaning of the system,\n",
    "\n",
    "Example:\n",
    "The Euler equations for hydrodynamics are a system of partial differential equations governing conservation of mass, momentum, and energy. Their mathematical character admits wave solutions, and the eigenvalues and eigenvectors of the system in matrix form are important to understanding the physical behavior of the density, pressure, velocity, etc., in the system. Working out the eigenvalues with pencil and paper is tedious, and not the objective of the lesson. In this case, we can use a symbolic math library like SymPy (Meurer et al., 2017) to do the mathematical analysis for us, finding the eigenvalues and eigenvectors of the system, and we can then use this result to continue our theoretical discussion of the system.\n",
    "\n",
    "Learning goals:\n",
    "Students will see how to do symbolic math that arises in their theoretical analysis.\n",
    "\n",
    "Audience(s):\n",
    "STEM students that want to focus on understanding a mathematical system without worrying about the algebraic details.\n",
    "\n",
    "Format:\n",
    "This works well as a notebook that acts as a supplement to the main lecture. Since the goal of the lecture is the theory, the notebook can [TODO: complete]\n",
    "\n",
    "Features:\n",
    "Abstracts the details of mathematics that is secondary to the discussion at hand into a separate unit that students can explore on their own.\n",
    "\n",
    "Pitfalls:\n",
    "This only works well in the case that the algebra is not essential to the main learning goals, but rather is simply something that must be done to get to the main goal."
   ]
  },
  {
   "cell_type": "markdown",
   "metadata": {},
   "source": [
    "4.12 Replace analysis with numerical methods\n",
    "Description:\n",
    "Some ideas that are hard to understand with mathematical analysis are easy to understand with computer simulation and numerical methods.\n",
    "\n",
    "In the usual presentation, students see and learn to do mathematical analysis on a series of simple examples, and resort to numerical methods only when necessary. In an alternative pattern, students skip the analysis and start with simulation and numerical methods, optionally visiting analysis after gaining practical experience.\n",
    "\n",
    "Examples:\n",
    "In statistics, hypothesis testing is a central idea that is notoriously difficult for students to understand. Students learn methods for computing p-values in a series of special cases, but many of them never understand the framework, or what a p-value means. The alternative is to compute sampling distributions and p-values by simulation; anecdotally, many students report that this approach makes the framework much clearer. Such simulation can also be used to drive home points about misconceptions held by most students and instructors (Haller & Krauss, 2002).\n",
    "\n",
    "Similarly, in queueing theory, there are a few analytic results that apply under narrow conditions; when those conditions don’t apply, there are no analytic solutions. However, queueing systems lend themselves to simulation and visualization, and in simulation it is easy to explore a wide range of conditions.\n",
    "\n",
    "And again, with differential equations, there are only a few special cases that have analytic solutions; the large majority of interesting, realistic problems don’t.\n",
    "\n",
    "Learning goals:\n",
    "This pattern is primarily about helping students see the big ideas of the domain more clearly, but it is also a chance to develop their programming skills. It also provides students with tools that are likely to be needed if they encounter similar problems in the real world, where analytic methods are often inapplicable, fragile, or complicated to use effectively.\n",
    "\n",
    "Audience(s):\n",
    "This pattern requires students to have some comfort with programming, although it would be possible for them to get some of the benefit from seeing examples without implementing them. Non-programmers can use this pattern via prepared notebooks; see Win Day One.\n",
    "\n",
    "Format (lecture / lab / …):\n",
    "This pattern can be used for in-class activities or homework.\n",
    "\n",
    "Features:\n",
    "Students can understand general ideas without getting bogged down in the details of special cases; and they are able to explore more interesting and realistic examples.\n",
    "\n",
    "Pitfalls:\n",
    "If students are not comfortable programmers, they can get bogged down in implementation details and debugging problems, and miss the domain content entirely. It is important to scope the implementation effort to suit the full range of students in the class. Pair programming can help mitigate these problems, especially if every pair has at least one student with programming skills, and if students are coached to pair program effectively (without letting the more experienced student dominate)."
   ]
  },
  {
   "cell_type": "markdown",
   "metadata": {},
   "source": [
    "4.16 Now you try (with different data or process)\n",
    "Description:\n",
    "Students start with a complete working example provided by an instructor and then they change the dataset or process to apply the notebook to an area of their own choosing. This method can allow more or less fluctuation depending on the skills of the students. For example we can allow students to select new datasets from a list that ensures the cells of the notebook will all still work or we can give them freedom to try new data structures or add new processes to break the notebooks and learn as they go through the process of fixing the broken cells.\n",
    "\n",
    "Example:\n",
    "An instructor designs a lesson in exploratory data analysis to scrape the critics’ reviews for a specific movie from a particular movie review website and then provide some simple visualizations. The students have a few options:\n",
    "\n",
    "Green Circle - replace the movie name and pick any movie they want and then step through the new notebook and see the new results.\n",
    "Blue Square - adjust the notebook to scrape users’ reviews rather than critics’ reviews and then fix any data parsing problems.\n",
    "Black Diamond - add different visualizations tailored to explore the user reviews (as opposed to the initial visualizations that are tailored for the critics’ reviews).\n",
    "There are various ways to test the properties of numerical methods. For example, students can use the method of manufactured solutions to test the order of accuracy for a differential equation solver. They can also measure cost as the resolution is increased and present the results in a way that would help an analyst decide which method to use given external requirements (e.g., using accuracy versus cost tradeoff curves).\n",
    "\n",
    "Related patterns:\n",
    "Top-down sequence\n",
    "\n",
    "Learning goals:\n",
    "This pattern allows students to apply their knowledge\n",
    "\n",
    "Audience(s):\n",
    "This pattern can be tailored for students with more or less experience even in the same course.\n",
    "\n",
    "Format (lecture / lab / …):\n",
    "This pattern is best in a lab or an interactive tutorial\n",
    "\n",
    "Pitfalls:\n",
    "A hazard of this pattern is that students may go completely off the rails and chose datasets or new processes that have not been tested and will not work in the timeframe allowed."
   ]
  },
  {
   "cell_type": "markdown",
   "metadata": {},
   "source": [
    "**Paso 3: Generar la versión de los estudiantes**\n",
    "\n",
    "Una vez este lista la tarea en la carpeta `source`, Nbgrader la procesa para generar la versión de los estudiantes. Esta versión se encuentra en la carpeta `release`. Podemos generar la versión de los estudiantes desde la interfaz gráfica de Jupyter Notebook, en la pestaña de `Formgrader`.\n",
    "\n",
    "Ahora toca subir la tarea a un repositorio de GitHub. Es importante subir la versión para estudiantes, en la carpeta `release`, ya que la versión en la carpeta `source` contienen las soluciones. Para iniciar el repositorio local, ejecutamos el script `git-init` en la carpeta de la tarea. Este script inicializa el repositorio bajo `git` y agrega los archivos `gitignore` y `Readme.md` de la carpeta `plantillas`. \n",
    "\n",
    "En GitHub, creamos un repositorio, con el mismo nombre que la carpeta en el esquema de nbgrader. Al momento es necesario subir los archivos a GitHub manualmente, para ello podemos usar las instrucciones que aparecen en la página del repositorio vacío."
   ]
  },
  {
   "cell_type": "markdown",
   "metadata": {},
   "source": [
    "**Paso 4: Crear el assignment en GitHub Classroom.**\n",
    "\n",
    "Github Classroom tomá nuestro assignment de nbgrader como plantilla para crear la tarea de cada estudiante. Se gerará un enlace que necesitamos compartir con los estudiantes. Cuando es estudiante sigue el enlace y acepta la tarea se crea un repositorio que el puede modificar al que tanto el profesor como el estudiante tienen acceso."
   ]
  },
  {
   "cell_type": "markdown",
   "metadata": {},
   "source": [
    "**Paso 5: Recuperar las tareas.**\n",
    "\n",
    "Cuando el estudiante termina la tarea o se cumple la fecha límite es hora de recopilar todo su trabajo para calificar. Para este fin hemos adaptado un script, `clone-all.py`, que automaticamente clona todos los repositorios y copia el trabajo a la carpeta `submitted`, donde nbgrader espera encontrar el trabajo que necesita calificar.\n",
    "\n",
    "Recomendamos calificar dentro de una instancia de Docker, en caso de que algún alumno se quiera pasar de listo e incluya algún comando peligroso en su tarea. Las instrucciones para montar y utilizar la instancia de Docker se pueden encontrar en la carpeta `docker`."
   ]
  },
  {
   "cell_type": "markdown",
   "metadata": {},
   "source": [
    "**Paso 6: Calificar.**\n",
    "\n",
    "Existen dos maneras de ejecutar el proceso de auto-calificación. La primera es desde la pestaña de `Formgrader` en Jupyter, donde se pueden calificar alumnos específicos de uno a uno. Más útil, es el comando\n",
    "\n",
    "```nbgrader autograde <tarea> ```\n",
    "\n",
    "El comando ejecuto el proceso en todas las tareas correspondientes en la carpeta `submitted`."
   ]
  },
  {
   "cell_type": "markdown",
   "metadata": {},
   "source": [
    "**Paso 7: Generar y mandar la retroalimentación.**\n",
    "\n",
    "Una vez se ha calificado, es importante dar retroalimentación a los alumnos. De nuevo, esto se puede hacer uno a uno, desde la pestaña `Formgrader`, o, de manera automatizada, con el comando\n",
    "\n",
    "```nbgrader feedback <tarea>```\n",
    "\n",
    "Este comando genera una versión html de la tarea con el puntaje obtenido en cada ejercicio y comentarios opcionales. El feedback, como se le llama, se encuentra ahora en la carpeta `feedback`. Para hacer llegar la retroalimentación a los estudiantes, necesitamos subir el archovo html a su repositorio en GitHub. Hemos adaptado otro script para tal efecto. Para ejecutar el script, se usa el comando\n",
    "\n",
    "```git-feedback.py <tarea>```\n",
    "\n",
    "Este script copia todos los archivos html con la retroalimentación a la carpeta correspondiente dentro de `cloned` y ejecuta un `git push` para subir los cambios al repositorio de cada estudiante en GitHub."
   ]
  },
  {
   "cell_type": "markdown",
   "metadata": {},
   "source": [
    "Solo hemos mostrado una manera de utilizar las herramientas en el proceso de enseñanza-aprendizaje. Es posible adaptar estás estrategias o crear nuevas estrategias basadas en las mismas herramientas. Cada herramienta es capaz de muchas más cosas de las que hemos mostrado. Por ejemplo, GitHub Classroom permite definir tests unitarios independientes de Jupyter y nbgrader, que se pueden usar para calificar código fuente en cualquier lenguaje de programación de manera automatizada. Remendamos estudiar la documentación de cada herramienta para explorar las diferenrtes posibilidades.\n",
    "\n",
    "Por últmo, si alguno de ustedes adopta alguna herramienta y les gustaría compartir su estrategia, son bienvenidos a realizar una 'pull request' en este repositorio.\n",
    "\n",
    "!Gracias!"
   ]
  }
 ],
 "metadata": {
  "celltoolbar": "Slideshow",
  "kernelspec": {
   "display_name": "Python 3",
   "language": "python",
   "name": "python3"
  },
  "language_info": {
   "codemirror_mode": {
    "name": "ipython",
    "version": 3
   },
   "file_extension": ".py",
   "mimetype": "text/x-python",
   "name": "python",
   "nbconvert_exporter": "python",
   "pygments_lexer": "ipython3",
   "version": "3.8.3"
  }
 },
 "nbformat": 4,
 "nbformat_minor": 4
}
