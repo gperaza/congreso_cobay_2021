{
 "cells": [
  {
   "cell_type": "markdown",
   "metadata": {
    "slideshow": {
     "slide_type": "-"
    }
   },
   "source": [
    "##### Gonzalo G. Peraza Mues & Didier Gamboa Ángulo (Enero 2021)"
   ]
  },
  {
   "cell_type": "markdown",
   "metadata": {
    "slideshow": {
     "slide_type": "-"
    }
   },
   "source": [
    "# Calificación automática de tareas con Jupyter, nbgrader y Github Classroom"
   ]
  },
  {
   "cell_type": "markdown",
   "metadata": {
    "slideshow": {
     "slide_type": "-"
    }
   },
   "source": [
    "## Requisitos\n",
    "\n",
    "Project Jupyter: https://jupyter.org/\n",
    "\n",
    "nbgrader: https://nbgrader.readthedocs.io/en/stable/\n",
    "\n",
    "GitHub Classroom: https://classroom.github.com/\n"
   ]
  },
  {
   "cell_type": "markdown",
   "metadata": {},
   "source": [
    "## Paso 1: Crear un curso.\n",
    "\n",
    "Nbgrader necesita trabajar con una estrucutra de archivos específica. Así mismo, toda la información relevante a alumnos y tareas se almacena en una base de datos. Para no tener que crear esta estructura y base de datos a mano, usaremos el siguiente comando:\n",
    "\n",
    "\n",
    "```nbgrader quickstart curso101```\n",
    "\n",
    "\n",
    "Esto nos creo una carpeta con subcarpetas para ejercicios, retroalimentación, etc, y la base de datos.\n",
    "```\n",
    "curso101/\n",
    "├── gradebook.db\n",
    "├── nbgrader_config.py\n",
    "├── source\n",
    "│   ├── header.ipynb\n",
    "│   └── tarea1\n",
    "│       ├── imagen1.png\n",
    "│       ├── problema1.ipynb\n",
    "│       └── problema2.ipynb\n",
    "├── release\n",
    "│   └── tarea1\n",
    "│       ├── imagen1.png\n",
    "│       ├── problema1.ipynb\n",
    "│       └── problema2.ipynb\n",
    "├── submitted\n",
    "│   ├── DidierGamboa\n",
    "│   │   └── tarea1\n",
    "│   │       ├── imagen1.png\n",
    "│   │       ├── problema1.ipynb\n",
    "│   │       ├── problema2.ipynb\n",
    "│   │       └── timestamp.txt\n",
    "│   └── GPeraza\n",
    "│       └── tarea1\n",
    "│           ├── imagen1.png\n",
    "│           ├── problema1.ipynb\n",
    "│           ├── problema2.ipynb\n",
    "│           └── timestamp.txt\n",
    "├── autograded/\n",
    "└── feedback/\n",
    "```\n",
    "\n",
    "Vamos a borrar la carpeta `ps1` incluida por defecto en `source` y modificamos el archivo `header.py` para reflejar mejor nuestro curso. Un ejemplo de `header.py` se incluye en la carpeta `plantillas`."
   ]
  },
  {
   "cell_type": "markdown",
   "metadata": {},
   "source": [
    "**Paso 2: Crear un ejercicio compatible con nbgrader.**\n",
    "\n",
    "Los ejercicios se crean en la carpeta `source`. No es la versión que ven los estudiantes. Nuestra recomendación es conservar los ejercicios maestros (la clave) en otro lugar (otra carpeta, un repositorio) y crear \"soft links\" dentro de la carpeta `source`. Esto con el fin de poder reutilizar los ejercicios para varios cursos y poder modificarlos sin afectar lo ya procesado por nbgrader.\n",
    "\n",
    "En el repositorio incluimos una carpeta `ejemplos` con tareas ejemplo que vamos a importar en nuestra estructura de nbgrader. En Linux y MacOS, se pueden crear soft links con el comando\n",
    "```ln -s ruta/al/archivo_o_carpeta ruta/al/symlink```\n",
    "\n",
    "Es importante manter una denominación congruente que permita identificar el número de la tarea, su unidad, etc. Nostros recomendamos la siguiente denominación: `U<#unidad>_M<submodulo>_L<#lectura>_<nombre_de_la_tarea>`."
   ]
  },
  {
   "cell_type": "markdown",
   "metadata": {},
   "source": [
    "**Paso 3: Generar la versión de los estudiantes**\n",
    "\n",
    "Una vez este lista la tarea en la carpeta `source`, Nbgrader la procesa para generar la versión de los estudiantes. Esta versión se encuentra en la carpeta `release`. Podemos generar la versión de los estudiantes desde la interfaz gráfica de Jupyter Notebook, en la pestaña de `Formgrader`.\n",
    "\n",
    "Ahora toca subir la tarea a un repositorio de GitHub. Es importante subir la versión para estudiantes, en la carpeta `release`, ya que la versión en la carpeta `source` contienen las soluciones. Para iniciar el repositorio local, ejecutamos el script `git-init` en la carpeta de la tarea. Este script inicializa el repositorio bajo `git` y agrega los archivos `gitignore` y `Readme.md` de la carpeta `plantillas`. \n",
    "\n",
    "En GitHub, creamos un repositorio, con el mismo nombre que la carpeta en el esquema de nbgrader. Al momento es necesario subir los archivos a GitHub manualmente, para ello podemos usar las instrucciones que aparecen en la página del repositorio vacío."
   ]
  },
  {
   "cell_type": "markdown",
   "metadata": {},
   "source": [
    "**Paso 4: Crear el assignment en GitHub Classroom.**\n",
    "\n",
    "Github Classroom tomá nuestro assignment de nbgrader como plantilla para crear la tarea de cada estudiante. Se gerará un enlace que necesitamos compartir con los estudiantes. Cuando es estudiante sigue el enlace y acepta la tarea se crea un repositorio que el puede modificar al que tanto el profesor como el estudiante tienen acceso."
   ]
  },
  {
   "cell_type": "markdown",
   "metadata": {},
   "source": [
    "**Paso 5: Recuperar las tareas.**\n",
    "\n",
    "Cuando el estudiante termina la tarea o se cumple la fecha límite es hora de recopilar todo su trabajo para calificar. Para este fin hemos adaptado un script, `clone-all.py`, que automaticamente clona todos los repositorios y copia el trabajo a la carpeta `submitted`, donde nbgrader espera encontrar el trabajo que necesita calificar.\n",
    "\n",
    "Recomendamos calificar dentro de una instancia de Docker, en caso de que algún alumno se quiera pasar de listo e incluya algún comando peligroso en su tarea. Las instrucciones para montar y utilizar la instancia de Docker se pueden encontrar en la carpeta `docker`."
   ]
  },
  {
   "cell_type": "markdown",
   "metadata": {},
   "source": [
    "**Paso 6: Calificar.**\n",
    "\n",
    "Existen dos maneras de ejecutar el proceso de auto-calificación. La primera es desde la pestaña de `Formgrader` en Jupyter, donde se pueden calificar alumnos específicos de uno a uno. Más útil, es el comando\n",
    "\n",
    "```nbgrader autograde <tarea> ```\n",
    "\n",
    "El comando ejecuto el proceso en todas las tareas correspondientes en la carpeta `submitted`."
   ]
  },
  {
   "cell_type": "markdown",
   "metadata": {},
   "source": [
    "**Paso 7: Generar y mandar la retroalimentación.**\n",
    "\n",
    "Una vez se ha calificado, es importante dar retroalimentación a los alumnos. De nuevo, esto se puede hacer uno a uno, desde la pestaña `Formgrader`, o, de manera automatizada, con el comando\n",
    "\n",
    "```nbgrader feedback <tarea>```\n",
    "\n",
    "Este comando genera una versión html de la tarea con el puntaje obtenido en cada ejercicio y comentarios opcionales. El feedback, como se le llama, se encuentra ahora en la carpeta `feedback`. Para hacer llegar la retroalimentación a los estudiantes, necesitamos subir el archovo html a su repositorio en GitHub. Hemos adaptado otro script para tal efecto. Para ejecutar el script, se usa el comando\n",
    "\n",
    "```git-feedback.py <tarea>```\n",
    "\n",
    "Este script copia todos los archivos html con la retroalimentación a la carpeta correspondiente dentro de `cloned` y ejecuta un `git push` para subir los cambios al repositorio de cada estudiante en GitHub."
   ]
  },
  {
   "cell_type": "markdown",
   "metadata": {},
   "source": [
    "Solo hemos mostrado una manera de utilizar las herramientas en el proceso de enseñanza-aprendizaje. Es posible adaptar estás estrategias o crear nuevas estrategias basadas en las mismas herramientas. Cada herramienta es capaz de muchas más cosas de las que hemos mostrado. Por ejemplo, GitHub Classroom permite definir tests unitarios independientes de Jupyter y nbgrader, que se pueden usar para calificar código fuente en cualquier lenguaje de programación de manera automatizada. Remendamos estudiar la documentación de cada herramienta para explorar las diferenrtes posibilidades.\n",
    "\n",
    "Por últmo, si alguno de ustedes adopta alguna herramienta y les gustaría compartir su estrategia, son bienvenidos a realizar una 'pull request' en este repositorio.\n",
    "\n",
    "!Gracias!"
   ]
  }
 ],
 "metadata": {
  "kernelspec": {
   "display_name": "Python 3",
   "language": "python",
   "name": "python3"
  },
  "language_info": {
   "codemirror_mode": {
    "name": "ipython",
    "version": 3
   },
   "file_extension": ".py",
   "mimetype": "text/x-python",
   "name": "python",
   "nbconvert_exporter": "python",
   "pygments_lexer": "ipython3",
   "version": "3.8.5"
  }
 },
 "nbformat": 4,
 "nbformat_minor": 4
}
